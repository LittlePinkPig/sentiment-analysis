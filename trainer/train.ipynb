{
 "cells": [
  {
   "cell_type": "code",
   "execution_count": 1,
   "metadata": {
    "slideshow": {
     "slide_type": "-"
    }
   },
   "outputs": [],
   "source": [
    "import numpy as np\n",
    "from numpy.testing import assert_array_equal\n",
    "from rubixml.torch_textcnn import TextCNNSentimentClassifier\n",
    "import dill\n",
    "\n",
    "RANDOM_SEED = 2333\n",
    "np.random.seed(RANDOM_SEED)"
   ]
  },
  {
   "cell_type": "code",
   "execution_count": 2,
   "metadata": {},
   "outputs": [],
   "source": [
    "sentences = ['how',\n",
    "             'Wow... Loved this place.',\n",
    "             'Crust is not good.',\n",
    "             'Not tasty and the texture was just nasty.',\n",
    "             'Stopped by during the late May bank holiday off Rick Steve recommendation and loved it.',\n",
    "             'There was a warm feeling with the service and I felt like their guest for a special treat.']"
   ]
  },
  {
   "cell_type": "code",
   "execution_count": 3,
   "metadata": {},
   "outputs": [
    {
     "name": "stdout",
     "output_type": "stream",
     "text": [
      "----------------------------------------------------------\n",
      "train: min words=1, max words=32, counter=Counter({1: 391, 0: 376})\n",
      "dev: min words=2, max words=29, counter=Counter({0: 107, 1: 85})\n",
      "----------------------------------------------------------\n",
      "\n",
      "\n",
      "Epoch:1 batch:11 loss:0.753076 acc:0.56\n",
      "Eval - acc:0.62 p:0.64 r:0.75 f1:0.69 \n",
      "\n",
      "Saving best model: \n",
      "\n",
      "\n",
      "Best - acc:0.62 p:0.64 r:0.75 f1:0.69 \n",
      "\n",
      "Epoch:2 batch:11 loss:0.489381 acc:0.81\n",
      "Eval - acc:0.65 p:0.72 r:0.62 f1:0.66 \n",
      "\n",
      "Saving best model: \n",
      "\n",
      "\n",
      "Best - acc:0.65 p:0.72 r:0.62 f1:0.66 \n",
      "\n",
      "Epoch:3 batch:11 loss:0.404966 acc:0.90\n",
      "Eval - acc:0.60 p:0.76 r:0.41 f1:0.53 \n",
      "\n",
      "Epoch:4 batch:11 loss:0.329387 acc:0.89\n",
      "Eval - acc:0.60 p:0.78 r:0.40 f1:0.53 \n",
      "\n",
      "Epoch:5 batch:11 loss:0.244146 acc:0.98\n",
      "Eval - acc:0.60 p:0.75 r:0.44 f1:0.55 \n",
      "\n",
      "Epoch:6 batch:11 loss:0.173898 acc:1.00\n",
      "Eval - acc:0.65 p:0.76 r:0.55 f1:0.64 \n",
      "\n",
      "Epoch:7 batch:11 loss:0.101821 acc:1.00\n",
      "Eval - acc:0.61 p:0.75 r:0.46 f1:0.57 \n",
      "\n",
      "Epoch:8 batch:11 loss:0.085929 acc:1.00\n",
      "Eval - acc:0.62 p:0.75 r:0.50 f1:0.60 \n",
      "\n",
      "Epoch:9 batch:11 loss:0.077956 acc:1.00\n",
      "Eval - acc:0.64 p:0.75 r:0.52 f1:0.62 \n",
      "\n",
      "Epoch:10 batch:11 loss:0.050953 acc:1.00\n",
      "Eval - acc:0.62 p:0.75 r:0.49 f1:0.59 \n",
      "\n",
      "Epoch:11 batch:11 loss:0.031715 acc:1.00\n",
      "Eval - acc:0.64 p:0.76 r:0.50 f1:0.61 \n",
      "\n",
      "Epoch:12 batch:11 loss:0.026709 acc:1.00\n",
      "Eval - acc:0.62 p:0.75 r:0.50 f1:0.60 \n",
      "\n",
      "Epoch:13 batch:11 loss:0.021337 acc:1.00\n",
      "Eval - acc:0.64 p:0.76 r:0.50 f1:0.61 \n",
      "\n",
      "Epoch:14 batch:11 loss:0.017696 acc:1.00\n",
      "Eval - acc:0.63 p:0.76 r:0.50 f1:0.60 \n",
      "\n",
      "Epoch:15 batch:11 loss:0.017807 acc:1.00\n",
      "Eval - acc:0.64 p:0.76 r:0.50 f1:0.61 \n",
      "\n",
      "Epoch:16 batch:11 loss:0.015505 acc:1.00\n",
      "Eval - acc:0.64 p:0.76 r:0.50 f1:0.61 \n",
      "\n",
      "Epoch:17 batch:11 loss:0.011919 acc:1.00\n",
      "Eval - acc:0.65 p:0.77 r:0.52 f1:0.62 \n",
      "\n",
      "Epoch:18 batch:11 loss:0.011731 acc:1.00\n",
      "Eval - acc:0.64 p:0.77 r:0.50 f1:0.61 \n",
      "\n",
      "Epoch:19 batch:11 loss:0.012251 acc:1.00\n",
      "Eval - acc:0.65 p:0.77 r:0.52 f1:0.62 \n",
      "\n",
      "Epoch:20 batch:11 loss:0.008123 acc:1.00\n",
      "Eval - acc:0.65 p:0.77 r:0.52 f1:0.62 \n",
      "\n",
      "[0.26421475 0.00114481 0.91848    0.9921755  0.00563864 0.58121836]\n",
      "[0.4535645  0.2871229  0.58181065 0.520849   0.46001735 0.586932  ]\n"
     ]
    }
   ],
   "source": [
    "\n",
    "model = TextCNNSentimentClassifier(embed_dim=200, lr=0.001, dropout=0.2)\n",
    "\n",
    "model.fit('./example_data/train.txt', nepoch=20, train_dev_ratio=0.8, batch_size=64)\n",
    "\n",
    "\n",
    "\n",
    "last_result = model.predict_prob(sentences)\n",
    "model.use_best_model()\n",
    "best_result = model.predict_prob(sentences)\n",
    "\n",
    "\n",
    "with open('./best_senti_model.pkl', 'wb') as f:\n",
    "    dill.dump(model, f)\n",
    "\n",
    "    \n",
    "print(last_result)\n",
    "print(best_result)"
   ]
  },
  {
   "cell_type": "code",
   "execution_count": 4,
   "metadata": {},
   "outputs": [
    {
     "name": "stdout",
     "output_type": "stream",
     "text": [
      "[0.51603085 0.00463869 0.94028145 0.9894099  0.0043108  0.837252  ]\n"
     ]
    }
   ],
   "source": [
    "with open('./best_senti_model.pkl', 'rb') as f:\n",
    "    new_model = dill.load(f)\n",
    "\n",
    "new_result = new_model.predict_prob(sentences)\n",
    "\n",
    "print(new_result)"
   ]
  },
  {
   "cell_type": "code",
   "execution_count": null,
   "metadata": {},
   "outputs": [],
   "source": []
  }
 ],
 "metadata": {
  "kernelspec": {
   "display_name": "Python 3",
   "language": "python",
   "name": "python3"
  },
  "language_info": {
   "codemirror_mode": {
    "name": "ipython",
    "version": 3
   },
   "file_extension": ".py",
   "mimetype": "text/x-python",
   "name": "python",
   "nbconvert_exporter": "python",
   "pygments_lexer": "ipython3",
   "version": "3.6.5"
  }
 },
 "nbformat": 4,
 "nbformat_minor": 2
}
