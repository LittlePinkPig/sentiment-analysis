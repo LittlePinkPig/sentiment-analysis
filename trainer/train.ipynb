{
 "cells": [
  {
   "cell_type": "code",
   "execution_count": 1,
   "metadata": {
    "slideshow": {
     "slide_type": "-"
    }
   },
   "outputs": [],
   "source": [
    "import numpy as np\n",
    "from numpy.testing import assert_array_equal\n",
    "from rubixml.torch_textcnn import TextCNNSentimentClassifier\n",
    "import dill\n",
    "\n",
    "RANDOM_SEED = 2333\n",
    "np.random.seed(RANDOM_SEED)"
   ]
  },
  {
   "cell_type": "code",
   "execution_count": 3,
   "metadata": {},
   "outputs": [],
   "source": [
    "sentences = ['how',\n",
    "             'Wow... Loved this place.',\n",
    "             'Crust is not good.',\n",
    "             'Not tasty and the texture was just nasty.',\n",
    "             'Stopped by during the late May bank holiday off Rick Steve recommendation and loved it.',\n",
    "             'There was a warm feeling with the service and I felt like their guest for a special treat.']"
   ]
  },
  {
   "cell_type": "code",
   "execution_count": 2,
   "metadata": {},
   "outputs": [
    {
     "name": "stdout",
     "output_type": "stream",
     "text": [
      "----------------------------------------------------------\n",
      "train: min words=2, max words=32, counter=Counter({1: 386, 0: 381})\n",
      "dev: min words=1, max words=32, counter=Counter({0: 102, 1: 90})\n",
      "----------------------------------------------------------\n",
      "\n",
      "\n",
      "Epoch: 1 - Batch: 11 - loss: 0.788016  train acc: 0.57\n",
      "Evaluation -  dev acc: 0.57 \n",
      "\n",
      "Saving best model, acc: 0.5729\n",
      "\n",
      "Epoch: 2 - Batch: 11 - loss: 0.599953  train acc: 0.63\n",
      "Evaluation -  dev acc: 0.68 \n",
      "\n",
      "Saving best model, acc: 0.6823\n",
      "\n",
      "Epoch: 3 - Batch: 11 - loss: 0.424132  train acc: 0.84\n",
      "Evaluation -  dev acc: 0.68 \n",
      "\n",
      "Epoch: 4 - Batch: 11 - loss: 0.319609  train acc: 0.95\n",
      "Evaluation -  dev acc: 0.71 \n",
      "\n",
      "Saving best model, acc: 0.7135\n",
      "\n",
      "Epoch: 5 - Batch: 11 - loss: 0.249766  train acc: 1.00\n",
      "Evaluation -  dev acc: 0.76 \n",
      "\n",
      "Saving best model, acc: 0.7552\n",
      "\n",
      "Epoch: 6 - Batch: 11 - loss: 0.160742  train acc: 1.00\n",
      "Evaluation -  dev acc: 0.75 \n",
      "\n",
      "Epoch: 7 - Batch: 11 - loss: 0.126079  train acc: 0.98\n",
      "Evaluation -  dev acc: 0.75 \n",
      "\n",
      "Epoch: 8 - Batch: 11 - loss: 0.106343  train acc: 1.00\n",
      "Evaluation -  dev acc: 0.76 \n",
      "\n",
      "Saving best model, acc: 0.7604\n",
      "\n",
      "Epoch: 9 - Batch: 11 - loss: 0.052618  train acc: 1.00\n",
      "Evaluation -  dev acc: 0.76 \n",
      "\n",
      "Epoch: 10 - Batch: 11 - loss: 0.039823  train acc: 1.00\n",
      "Evaluation -  dev acc: 0.76 \n",
      "\n",
      "Epoch: 11 - Batch: 11 - loss: 0.035340  train acc: 1.00\n",
      "Evaluation -  dev acc: 0.74 \n",
      "\n",
      "Epoch: 12 - Batch: 11 - loss: 0.029208  train acc: 1.00\n",
      "Evaluation -  dev acc: 0.76 \n",
      "\n",
      "Epoch: 13 - Batch: 11 - loss: 0.024490  train acc: 1.00\n",
      "Evaluation -  dev acc: 0.77 \n",
      "\n",
      "Saving best model, acc: 0.7656\n",
      "\n",
      "Epoch: 14 - Batch: 11 - loss: 0.015603  train acc: 1.00\n",
      "Evaluation -  dev acc: 0.76 \n",
      "\n",
      "Epoch: 15 - Batch: 11 - loss: 0.014819  train acc: 1.00\n",
      "Evaluation -  dev acc: 0.77 \n",
      "\n",
      "Epoch: 16 - Batch: 11 - loss: 0.015516  train acc: 1.00\n",
      "Evaluation -  dev acc: 0.76 \n",
      "\n",
      "Epoch: 17 - Batch: 11 - loss: 0.011945  train acc: 1.00\n",
      "Evaluation -  dev acc: 0.77 \n",
      "\n",
      "Saving best model, acc: 0.7708\n",
      "\n",
      "Epoch: 18 - Batch: 11 - loss: 0.010033  train acc: 1.00\n",
      "Evaluation -  dev acc: 0.77 \n",
      "\n",
      "Epoch: 19 - Batch: 11 - loss: 0.007437  train acc: 1.00\n",
      "Evaluation -  dev acc: 0.76 \n",
      "\n",
      "Epoch: 20 - Batch: 11 - loss: 0.007652  train acc: 1.00\n",
      "Evaluation -  dev acc: 0.76 \n",
      "\n",
      "[0.51190275 0.00290144 0.94590104 0.99274135 0.00306211 0.8585821 ]\n",
      "[0.51603085 0.00463869 0.94028145 0.9894099  0.0043108  0.837252  ]\n",
      "[0.51603085 0.00463869 0.94028145 0.9894099  0.0043108  0.837252  ]\n"
     ]
    }
   ],
   "source": [
    "\n",
    "model = TextCNNSentimentClassifier(embed_dim=200, lr=0.001, dropout=0.8)\n",
    "\n",
    "model.fit('./example_data/train.txt', nepoch=20, train_dev_ratio=0.8, batch_size=64)\n",
    "\n",
    "\n",
    "\n",
    "last_result = model.predict_prob(sentences)\n",
    "model.use_best_model()\n",
    "best_result = model.predict_prob(sentences)\n",
    "\n",
    "\n",
    "with open('./best_senti_model.pkl', 'wb') as f:\n",
    "    dill.dump(model, f)\n",
    "\n",
    "    \n",
    "print(last_result)\n",
    "print(best_result)"
   ]
  },
  {
   "cell_type": "code",
   "execution_count": 4,
   "metadata": {},
   "outputs": [
    {
     "name": "stdout",
     "output_type": "stream",
     "text": [
      "[0.51603085 0.00463869 0.94028145 0.9894099  0.0043108  0.837252  ]\n"
     ]
    }
   ],
   "source": [
    "with open('./best_senti_model.pkl', 'rb') as f:\n",
    "    new_model = dill.load(f)\n",
    "\n",
    "new_result = new_model.predict_prob(sentences)\n",
    "\n",
    "print(new_result)"
   ]
  },
  {
   "cell_type": "code",
   "execution_count": null,
   "metadata": {},
   "outputs": [],
   "source": []
  }
 ],
 "metadata": {
  "kernelspec": {
   "display_name": "Python 3",
   "language": "python",
   "name": "python3"
  },
  "language_info": {
   "codemirror_mode": {
    "name": "ipython",
    "version": 3
   },
   "file_extension": ".py",
   "mimetype": "text/x-python",
   "name": "python",
   "nbconvert_exporter": "python",
   "pygments_lexer": "ipython3",
   "version": "3.6.5"
  }
 },
 "nbformat": 4,
 "nbformat_minor": 2
}
