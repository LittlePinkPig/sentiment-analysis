{
 "cells": [
  {
   "cell_type": "code",
   "execution_count": 1,
   "metadata": {
    "slideshow": {
     "slide_type": "-"
    }
   },
   "outputs": [],
   "source": [
    "import numpy as np\n",
    "from numpy.testing import assert_array_equal\n",
    "from rubixml.torch_textcnn import TextCNNSentimentClassifier\n",
    "import dill\n",
    "\n",
    "RANDOM_SEED = 2333\n",
    "np.random.seed(RANDOM_SEED)"
   ]
  },
  {
   "cell_type": "code",
   "execution_count": 2,
   "metadata": {},
   "outputs": [],
   "source": [
    "sentences = ['how',\n",
    "             'Wow... Loved this place.',\n",
    "             'Crust is not good.',\n",
    "             'Not tasty and the texture was just nasty.',\n",
    "             'Stopped by during the late May bank holiday off Rick Steve recommendation and loved it.',\n",
    "             'There was a warm feeling with the service and I felt like their guest for a special treat.']"
   ]
  },
  {
   "cell_type": "code",
   "execution_count": 4,
   "metadata": {},
   "outputs": [
    {
     "name": "stdout",
     "output_type": "stream",
     "text": [
      "----------------------------------------------------------\n",
      "train: min words=1, max words=32, counter=Counter({0: 391, 1: 376})\n",
      "dev: min words=2, max words=32, counter=Counter({1: 100, 0: 92})\n",
      "----------------------------------------------------------\n",
      "\n",
      "\n",
      "Epoch:1 batch:11 loss:0.672085 acc:0.57\n",
      "Eval - acc:0.52 p:1.00 r:0.08 f1:0.15 \n",
      "\n",
      "Saving best model:\n",
      "\n",
      "Best - acc:0.52 p:1.00 r:0.08 f1:0.15 \n",
      " \n",
      "\n",
      "Epoch:2 batch:11 loss:0.418993 acc:0.86\n",
      "Eval - acc:0.68 p:0.78 r:0.54 f1:0.64 \n",
      "\n",
      "Saving best model:\n",
      "\n",
      "Best - acc:0.68 p:0.78 r:0.54 f1:0.64 \n",
      " \n",
      "\n",
      "Epoch:3 batch:11 loss:0.287023 acc:0.94\n",
      "Eval - acc:0.73 p:0.76 r:0.71 f1:0.73 \n",
      "\n",
      "Saving best model:\n",
      "\n",
      "Best - acc:0.73 p:0.76 r:0.71 f1:0.73 \n",
      " \n",
      "\n",
      "Epoch:4 batch:11 loss:0.198538 acc:0.98\n",
      "Eval - acc:0.68 p:0.91 r:0.42 f1:0.58 \n",
      "\n",
      "Epoch:5 batch:11 loss:0.124987 acc:1.00\n",
      "Eval - acc:0.69 p:0.79 r:0.55 f1:0.65 \n",
      "\n",
      "Epoch:6 batch:11 loss:0.074854 acc:1.00\n",
      "Eval - acc:0.70 p:0.83 r:0.54 f1:0.65 \n",
      "\n",
      "Epoch:7 batch:11 loss:0.056349 acc:1.00\n",
      "Eval - acc:0.70 p:0.86 r:0.50 f1:0.63 \n",
      "\n",
      "Epoch:8 batch:11 loss:0.042971 acc:1.00\n",
      "Eval - acc:0.70 p:0.81 r:0.56 f1:0.66 \n",
      "\n",
      "Epoch:9 batch:11 loss:0.028186 acc:1.00\n",
      "Eval - acc:0.70 p:0.85 r:0.51 f1:0.64 \n",
      "\n",
      "Epoch:10 batch:11 loss:0.024307 acc:1.00\n",
      "Eval - acc:0.70 p:0.83 r:0.54 f1:0.65 \n",
      "\n",
      "Epoch:11 batch:11 loss:0.021866 acc:1.00\n",
      "Eval - acc:0.70 p:0.85 r:0.51 f1:0.64 \n",
      "\n",
      "Epoch:12 batch:11 loss:0.015049 acc:1.00\n",
      "Eval - acc:0.71 p:0.84 r:0.54 f1:0.66 \n",
      "\n",
      "Epoch:13 batch:11 loss:0.016686 acc:1.00\n",
      "Eval - acc:0.70 p:0.85 r:0.52 f1:0.65 \n",
      "\n",
      "Epoch:14 batch:11 loss:0.010436 acc:1.00\n",
      "Eval - acc:0.71 p:0.86 r:0.54 f1:0.66 \n",
      "\n",
      "Epoch:15 batch:11 loss:0.008593 acc:1.00\n",
      "Eval - acc:0.70 p:0.85 r:0.52 f1:0.65 \n",
      "\n",
      "Epoch:16 batch:11 loss:0.007040 acc:1.00\n",
      "Eval - acc:0.71 p:0.86 r:0.54 f1:0.66 \n",
      "\n",
      "Epoch:17 batch:11 loss:0.007014 acc:1.00\n",
      "Eval - acc:0.71 p:0.85 r:0.53 f1:0.65 \n",
      "\n",
      "Epoch:18 batch:11 loss:0.006061 acc:1.00\n",
      "Eval - acc:0.71 p:0.86 r:0.54 f1:0.66 \n",
      "\n",
      "Epoch:19 batch:11 loss:0.005002 acc:1.00\n",
      "Eval - acc:0.71 p:0.86 r:0.54 f1:0.66 \n",
      "\n",
      "Epoch:20 batch:11 loss:0.003914 acc:1.00\n",
      "Eval - acc:0.72 p:0.86 r:0.55 f1:0.67 \n",
      "\n",
      "[0.7319929  0.98686856 0.0032073  0.00461231 0.99737835 0.15631732]\n",
      "[0.561066   0.8565267  0.26135206 0.28100333 0.85624236 0.4632148 ]\n"
     ]
    }
   ],
   "source": [
    "\n",
    "model = TextCNNSentimentClassifier(embed_dim=200, lr=0.001, dropout=0.2)\n",
    "\n",
    "model.fit('./example_data/train.txt', nepoch=20, train_dev_ratio=0.8, batch_size=64)\n",
    "\n",
    "\n",
    "\n",
    "last_result = model.predict_prob(sentences)\n",
    "model.use_best_model()\n",
    "best_result = model.predict_prob(sentences)\n",
    "\n",
    "\n",
    "with open('./best_senti_model.pkl', 'wb') as f:\n",
    "    dill.dump(model, f)\n",
    "\n",
    "    \n",
    "print(last_result)\n",
    "print(best_result)"
   ]
  },
  {
   "cell_type": "code",
   "execution_count": 4,
   "metadata": {},
   "outputs": [
    {
     "name": "stdout",
     "output_type": "stream",
     "text": [
      "[0.51603085 0.00463869 0.94028145 0.9894099  0.0043108  0.837252  ]\n"
     ]
    }
   ],
   "source": [
    "with open('./best_senti_model.pkl', 'rb') as f:\n",
    "    new_model = dill.load(f)\n",
    "\n",
    "new_result = new_model.predict_prob(sentences)\n",
    "\n",
    "print(new_result)"
   ]
  },
  {
   "cell_type": "code",
   "execution_count": null,
   "metadata": {},
   "outputs": [],
   "source": []
  }
 ],
 "metadata": {
  "kernelspec": {
   "display_name": "Python 3",
   "language": "python",
   "name": "python3"
  },
  "language_info": {
   "codemirror_mode": {
    "name": "ipython",
    "version": 3
   },
   "file_extension": ".py",
   "mimetype": "text/x-python",
   "name": "python",
   "nbconvert_exporter": "python",
   "pygments_lexer": "ipython3",
   "version": "3.7.3"
  }
 },
 "nbformat": 4,
 "nbformat_minor": 2
}
